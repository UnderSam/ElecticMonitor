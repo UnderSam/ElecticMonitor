{
 "cells": [
  {
   "cell_type": "code",
   "execution_count": 5,
   "metadata": {},
   "outputs": [],
   "source": [
    "import pymysql\n",
    "import pandas as np\n",
    "import random as rdm\n",
    "import datetime\n",
    "import time\n",
    "start = time.time()"
   ]
  },
  {
   "cell_type": "code",
   "execution_count": 1,
   "metadata": {},
   "outputs": [],
   "source": [
    "def createTable(name):\n",
    "    row = [ 'tagname varchar(10)','site varchar(10)','rs_v varchar(10)','st_v varchar(10)','tr_v varchar(10)','r_a varchar(10)','s_a varchar(10)',\n",
    "           't_a varchar(10)','kwh varchar(10)','pf varchar(10)','kw varchar(10)','is_on varchar(10)','datetime datetime']\n",
    "    sql = \"create table %s (\"%(name)\n",
    "    sql = sql+','.join(row)+\")\"\n",
    "    return sql"
   ]
  },
  {
   "cell_type": "code",
   "execution_count": 2,
   "metadata": {},
   "outputs": [
    {
     "data": {
      "text/plain": [
       "'create table point_info (tagname varchar(10),site varchar(10),rs_v varchar(10),st_v varchar(10),tr_v varchar(10),r_a varchar(10),s_a varchar(10),t_a varchar(10),kwh varchar(10),pf varchar(10),kw varchar(10),is_on varchar(10),datetime datetime)'"
      ]
     },
     "execution_count": 2,
     "metadata": {},
     "output_type": "execute_result"
    }
   ],
   "source": [
    "createTable(\"point_info\")"
   ]
  },
  {
   "cell_type": "code",
   "execution_count": null,
   "metadata": {},
   "outputs": [],
   "source": [
    "import pymysql\n",
    "\n",
    "# 打开数据库连接\n",
    "db = pymysql.connect(\"localhost\",\"root\",\"j6t/6bj6\",\"clientdb\" )\n",
    " \n",
    "# 使用 cursor() 方法创建一个游标对象 cursor\n",
    "cursor = db.cursor()\n",
    " \n",
    "# 使用 execute() 方法执行 SQL，如果表存在则删除\n",
    "cursor.execute(createTable('points_info'))\n",
    " \n",
    "# 关闭数据库连接\n",
    "db.close()"
   ]
  },
  {
   "cell_type": "code",
   "execution_count": 6,
   "metadata": {},
   "outputs": [],
   "source": [
    "def generate_insert(table,num):\n",
    "    row = [ 'tagname','site','rs_v','st_v','tr_v','r_a','s_a','t_a','kwh','pf','kw','is_on','datetime']\n",
    "    \n",
    "    if(rdm.randint(0,100)>50):\n",
    "        ison = 1\n",
    "    else:\n",
    "        ison = 0\n",
    "    \n",
    "    datas = {\n",
    "        'tagname' : \"A%s\"%(str(num)),\n",
    "        'site' : \"N\"+str(rdm.randint(0,10)),\n",
    "        'rs_v' : 380,\n",
    "        'st_v' : 380,\n",
    "        'tr_v' : 380,\n",
    "        'r_a' : rdm.randint(0,1000),\n",
    "        's_a' : rdm.randint(0,1000),\n",
    "        't_a' : rdm.randint(0,1000),\n",
    "        'kwh' : rdm.randint(0,1000),\n",
    "        'pf' : rdm.randint(0,1000),\n",
    "        'kw' : rdm.randint(0,1000),\n",
    "        'is_on' : ison,\n",
    "        'datetime' : datetime.datetime.now().strftime(\"%Y-%m-%d %H:%M:%S\")\n",
    "    }\n",
    "    template = \"insert into %s (\"%(table)\n",
    "    template = template+','.join(row)+\") values (\"\n",
    "    for col in row:\n",
    "        template = template+\"'\"+str(datas[col])+\"'\"+','\n",
    "    template = template[:-1]+')'\n",
    "    return template"
   ]
  },
  {
   "cell_type": "code",
   "execution_count": 7,
   "metadata": {},
   "outputs": [
    {
     "data": {
      "text/plain": [
       "\"insert into points_info (tagname,site,rs_v,st_v,tr_v,r_a,s_a,t_a,kwh,pf,kw,is_on,datetime) values ('A9','N2','380','380','380','832','120','415','317','874','174','0','2019-07-19 13:21:14')\""
      ]
     },
     "execution_count": 7,
     "metadata": {},
     "output_type": "execute_result"
    }
   ],
   "source": [
    "generate_insert('points_info',9)"
   ]
  },
  {
   "cell_type": "code",
   "execution_count": 8,
   "metadata": {},
   "outputs": [],
   "source": [
    "def simulate_sql(db,cursor,table,points):\n",
    "    for num in range(points):\n",
    "        try:\n",
    "            data = generate_insert(table,num+1)\n",
    "            cursor.execute(data)\n",
    "            db.commit()\n",
    "        except pymysql.InternalError as e:\n",
    "            db.rollback()\n",
    "            print(\"error occurs : \",e)\n",
    "            return 0\n",
    "    return 1"
   ]
  },
  {
   "cell_type": "code",
   "execution_count": 5,
   "metadata": {},
   "outputs": [],
   "source": [
    "db = pymysql.connect(\"localhost\",\"root\",\"j6t/6bj6\",\"clientdb\" )\n",
    "# 使用 cursor() 方法创建一个游标对象 cursor\n",
    "cursor = db.cursor()\n",
    "simulate_sql(db,cursor,'point_info',9)\n",
    "db.close()"
   ]
  },
  {
   "cell_type": "code",
   "execution_count": 9,
   "metadata": {},
   "outputs": [
    {
     "name": "stdout",
     "output_type": "stream",
     "text": [
      "point_num : 9 , sleep time : 10 , start time : 1563513907.000263 , limit : 100\n",
      "Insert finish , cost time : 1024\n"
     ]
    }
   ],
   "source": [
    "db = pymysql.connect(\"localhost\",\"root\",\"j6t/6bj6\",\"clientdb\" )\n",
    "# 使用 cursor() 方法创建一个游标对象 cursor\n",
    "cursor = db.cursor()\n",
    "# 使用 fetchone() 方法获取单条数据.\n",
    "period = 10\n",
    "count = 0\n",
    "day = 7\n",
    "point_num = 9\n",
    "start = time.time()\n",
    "value = day*86400/period*point_num\n",
    "result = 1\n",
    "limit = 100\n",
    "print(\"point_num : %d , sleep time : %d , start time : %f , limit : %d\" %(point_num,period,start,limit))\n",
    "#print(\"%d days , %d points , there will be %d datas will be insert\"%(day,point_num,day*86400/period*point_num))\n",
    "while count<(day*86400/period):\n",
    "    #print(\"Number %d data incoming.\"%(count+1))\n",
    "    time.sleep(period)\n",
    "    result = simulate_sql(db,cursor,'point_info',point_num)\n",
    "    if not result:\n",
    "        print(\"error occurs\")\n",
    "        break\n",
    "    if count > limit:\n",
    "        break\n",
    "    count+=1\n",
    "# 关闭数据库连接\n",
    "end = time.time()\n",
    "print('Insert finish , cost time : %d'%(end-start))\n",
    "db.close()"
   ]
  },
  {
   "cell_type": "code",
   "execution_count": null,
   "metadata": {},
   "outputs": [],
   "source": []
  }
 ],
 "metadata": {
  "kernelspec": {
   "display_name": "Python 3",
   "language": "python",
   "name": "python3"
  },
  "language_info": {
   "codemirror_mode": {
    "name": "ipython",
    "version": 3
   },
   "file_extension": ".py",
   "mimetype": "text/x-python",
   "name": "python",
   "nbconvert_exporter": "python",
   "pygments_lexer": "ipython3",
   "version": "3.6.5"
  }
 },
 "nbformat": 4,
 "nbformat_minor": 2
}
