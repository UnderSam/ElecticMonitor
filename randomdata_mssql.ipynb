{
 "cells": [
  {
   "cell_type": "code",
   "execution_count": 1,
   "metadata": {},
   "outputs": [],
   "source": [
    "import pymssql  \n",
    "import pandas as np\n",
    "import random as rdm\n",
    "import datetime\n",
    "import time\n",
    "start = time.time()"
   ]
  },
  {
   "cell_type": "code",
   "execution_count": 2,
   "metadata": {},
   "outputs": [],
   "source": [
    "def generate_insert(table,num,site):\n",
    "    row = [ 'tagname','site','rs_v','st_v','tr_v','r_a','s_a','t_a','kwh','pf','kw','is_on','datetime']\n",
    "    \n",
    "    if(rdm.randint(0,100)>50):\n",
    "        ison = 1\n",
    "    else:\n",
    "        ison = 0\n",
    "    \n",
    "    datas = {\n",
    "        'tagname' : \"A%s\"%(str(num)),\n",
    "        'site' : \"N\"+str(site),\n",
    "        'rs_v' : 380,\n",
    "        'st_v' : 380,\n",
    "        'tr_v' : 380,\n",
    "        'r_a' : rdm.randint(0,1000),\n",
    "        's_a' : rdm.randint(0,1000),\n",
    "        't_a' : rdm.randint(0,1000),\n",
    "        'kwh' : rdm.randint(0,1000),\n",
    "        'pf' : rdm.randint(0,1000),\n",
    "        'kw' : rdm.randint(0,1000),\n",
    "        'is_on' : ison,\n",
    "        'datetime' : datetime.datetime.now().strftime(\"%Y-%m-%d %H:%M:%S\")\n",
    "    }\n",
    "    template = \"insert into %s (\"%(table)\n",
    "    template = template+','.join(row)+\") values (\"\n",
    "    for col in row:\n",
    "        template = template+\"'\"+str(datas[col])+\"'\"+','\n",
    "    template = template[:-1]+')'\n",
    "    return template"
   ]
  },
  {
   "cell_type": "code",
   "execution_count": 8,
   "metadata": {},
   "outputs": [
    {
     "data": {
      "text/plain": [
       "\"insert into point_info (tagname,site,rs_v,st_v,tr_v,r_a,s_a,t_a,kwh,pf,kw,is_on,datetime) values ('A5','N1','380','380','380','264','365','289','641','194','884','0','2019-08-16 15:54:27')\""
      ]
     },
     "execution_count": 8,
     "metadata": {},
     "output_type": "execute_result"
    }
   ],
   "source": [
    "generate_insert('point_info',5,1)"
   ]
  },
  {
   "cell_type": "code",
   "execution_count": 3,
   "metadata": {},
   "outputs": [],
   "source": [
    "def simulate_sql(db,cursor,table,points):\n",
    "    for num in range(points):\n",
    "        try:\n",
    "            data = generate_insert(table,num+1,1)\n",
    "            cursor.execute(data)\n",
    "            db.commit()\n",
    "        except :\n",
    "            db.rollback()\n",
    "            print(\"error occurs\")\n",
    "            return 0\n",
    "    return 1"
   ]
  },
  {
   "cell_type": "code",
   "execution_count": 7,
   "metadata": {},
   "outputs": [
    {
     "name": "stdout",
     "output_type": "stream",
     "text": [
      "point_num : 9 , sleep time : 10 , start time : 1566545288.593089 , limit : 500\n"
     ]
    },
    {
     "ename": "KeyboardInterrupt",
     "evalue": "",
     "output_type": "error",
     "traceback": [
      "\u001b[0;31m---------------------------------------------------------------------------\u001b[0m",
      "\u001b[0;31mKeyboardInterrupt\u001b[0m                         Traceback (most recent call last)",
      "\u001b[0;32m<ipython-input-7-9d582a9fd11d>\u001b[0m in \u001b[0;36m<module>\u001b[0;34m()\u001b[0m\n\u001b[1;32m     16\u001b[0m \u001b[0;32mwhile\u001b[0m \u001b[0mcount\u001b[0m\u001b[0;34m<\u001b[0m\u001b[0;34m(\u001b[0m\u001b[0mday\u001b[0m\u001b[0;34m*\u001b[0m\u001b[0;36m86400\u001b[0m\u001b[0;34m/\u001b[0m\u001b[0mperiod\u001b[0m\u001b[0;34m)\u001b[0m\u001b[0;34m:\u001b[0m\u001b[0;34m\u001b[0m\u001b[0m\n\u001b[1;32m     17\u001b[0m     \u001b[0;31m#print(\"Number %d data incoming.\"%(count+1))\u001b[0m\u001b[0;34m\u001b[0m\u001b[0;34m\u001b[0m\u001b[0m\n\u001b[0;32m---> 18\u001b[0;31m     \u001b[0mtime\u001b[0m\u001b[0;34m.\u001b[0m\u001b[0msleep\u001b[0m\u001b[0;34m(\u001b[0m\u001b[0mperiod\u001b[0m\u001b[0;34m)\u001b[0m\u001b[0;34m\u001b[0m\u001b[0m\n\u001b[0m\u001b[1;32m     19\u001b[0m     \u001b[0mresult\u001b[0m \u001b[0;34m=\u001b[0m \u001b[0msimulate_sql\u001b[0m\u001b[0;34m(\u001b[0m\u001b[0mdb\u001b[0m\u001b[0;34m,\u001b[0m\u001b[0mcursor\u001b[0m\u001b[0;34m,\u001b[0m\u001b[0;34m'point_info'\u001b[0m\u001b[0;34m,\u001b[0m\u001b[0mpoint_num\u001b[0m\u001b[0;34m)\u001b[0m\u001b[0;34m\u001b[0m\u001b[0m\n\u001b[1;32m     20\u001b[0m     \u001b[0;32mif\u001b[0m \u001b[0;32mnot\u001b[0m \u001b[0mresult\u001b[0m\u001b[0;34m:\u001b[0m\u001b[0;34m\u001b[0m\u001b[0m\n",
      "\u001b[0;31mKeyboardInterrupt\u001b[0m: "
     ]
    }
   ],
   "source": [
    "#db = pymssql.connect(server='localhost:1401', user='SA', password='Samj6t/6bj6', database='testDB')\n",
    "db = pymssql.connect(server='192.168.50.45:1433', user='app', password='1qaz2wsx', database='app_project')  \n",
    "# 使用 cursor() 方法创建一个游标对象 cursor\n",
    "cursor = db.cursor()\n",
    "# 使用 fetchone() 方法获取单条数据.\n",
    "period = 10\n",
    "count = 0\n",
    "day = 7\n",
    "point_num = 9\n",
    "start = time.time()\n",
    "value = day*86400/period*point_num\n",
    "result = 1\n",
    "limit = 500\n",
    "print(\"point_num : %d , sleep time : %d , start time : %f , limit : %d\" %(point_num,period,start,limit))\n",
    "#print(\"%d days , %d points , there will be %d datas will be insert\"%(day,point_num,day*86400/period*point_num))\n",
    "while count<(day*86400/period):\n",
    "    #print(\"Number %d data incoming.\"%(count+1))\n",
    "    time.sleep(period)\n",
    "    result = simulate_sql(db,cursor,'point_info',point_num)\n",
    "    if not result:\n",
    "        print(\"error occurs\")\n",
    "        break\n",
    "    if count > limit:\n",
    "        break\n",
    "    count+=1\n",
    "# 关闭数据库连接\n",
    "end = time.time()\n",
    "print('Insert finish , cost time : %d'%(end-start))\n",
    "db.close()"
   ]
  },
  {
   "cell_type": "code",
   "execution_count": null,
   "metadata": {},
   "outputs": [],
   "source": []
  }
 ],
 "metadata": {
  "kernelspec": {
   "display_name": "Python 3",
   "language": "python",
   "name": "python3"
  },
  "language_info": {
   "codemirror_mode": {
    "name": "ipython",
    "version": 3
   },
   "file_extension": ".py",
   "mimetype": "text/x-python",
   "name": "python",
   "nbconvert_exporter": "python",
   "pygments_lexer": "ipython3",
   "version": "3.6.5"
  }
 },
 "nbformat": 4,
 "nbformat_minor": 2
}
